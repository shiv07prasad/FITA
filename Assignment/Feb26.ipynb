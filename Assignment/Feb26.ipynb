{
 "cells": [
  {
   "cell_type": "code",
   "execution_count": 1,
   "metadata": {},
   "outputs": [
    {
     "name": "stdout",
     "output_type": "stream",
     "text": [
      "2\n",
      "3\n",
      "5\n",
      "7\n",
      "11\n",
      "13\n",
      "17\n",
      "19\n",
      "23\n",
      "29\n"
     ]
    }
   ],
   "source": [
    "start = 1\n",
    "end = 30\n",
    "\n",
    "for i in range(start, end + 1):\n",
    "    if i < 2:  # Skip 1 because it's not prime\n",
    "        continue\n",
    "\n",
    "    is_prime = True  # Assume the number is prime\n",
    "\n",
    "    for j in range(2, i):\n",
    "        if i % j == 0:  # If divisible, it's not prime\n",
    "            is_prime = False\n",
    "            break  # Stop checking further\n",
    "\n",
    "    if is_prime:  # Print only if the number is still prime\n",
    "        print(i)\n"
   ]
  },
  {
   "cell_type": "markdown",
   "metadata": {
    "vscode": {
     "languageId": "raw"
    }
   },
   "source": [
    "string slice\n",
    "\n",
    "if else elif temperature"
   ]
  },
  {
   "cell_type": "code",
   "execution_count": 3,
   "metadata": {},
   "outputs": [
    {
     "name": "stdout",
     "output_type": "stream",
     "text": [
      "nohtyp\n"
     ]
    }
   ],
   "source": [
    "# reverse a string\n",
    "\n",
    "a = \"\"\n",
    "b = \"python\"\n",
    "\n",
    "for i in b:\n",
    "    a = i + a\n",
    "\n",
    "print(a)"
   ]
  },
  {
   "cell_type": "code",
   "execution_count": 8,
   "metadata": {},
   "outputs": [
    {
     "name": "stdout",
     "output_type": "stream",
     "text": [
      "0 1 1 2 3 5 8 13 21 34 55 "
     ]
    }
   ],
   "source": [
    "# fibbo\n",
    "n = 11  # Number of terms\n",
    "\n",
    "a, b = 0, 1  # First two terms\n",
    "\n",
    "for _ in range(n):\n",
    "    print(a, end=\" \")\n",
    "    a, b = b, a + b  # Move to the next Fibonacci numbers\n",
    "\n"
   ]
  },
  {
   "cell_type": "code",
   "execution_count": 10,
   "metadata": {},
   "outputs": [
    {
     "name": "stdout",
     "output_type": "stream",
     "text": [
      "0\n",
      "1\n",
      "1\n",
      "2\n",
      "3\n",
      "5\n",
      "8\n",
      "13\n",
      "21\n",
      "34\n"
     ]
    }
   ],
   "source": [
    "n = 10\n",
    "\n",
    "a = 0\n",
    "b = 1\n",
    "\n",
    "for i in range (n):\n",
    "    print(a)\n",
    "    a , b = b , a + b"
   ]
  },
  {
   "cell_type": "code",
   "execution_count": null,
   "metadata": {},
   "outputs": [],
   "source": []
  }
 ],
 "metadata": {
  "kernelspec": {
   "display_name": "Python 3",
   "language": "python",
   "name": "python3"
  },
  "language_info": {
   "codemirror_mode": {
    "name": "ipython",
    "version": 3
   },
   "file_extension": ".py",
   "mimetype": "text/x-python",
   "name": "python",
   "nbconvert_exporter": "python",
   "pygments_lexer": "ipython3",
   "version": "3.10.5"
  }
 },
 "nbformat": 4,
 "nbformat_minor": 2
}
