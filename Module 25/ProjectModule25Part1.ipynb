{
 "cells": [
  {
   "cell_type": "markdown",
   "metadata": {},
   "source": [
    "# **Project: Student Course Management System using Python and MySQL**\n",
    "\n",
    "## **1. Introduction**\n",
    "The **Student Course Management System** is a simple database application that allows users to manage students, instructors, courses, and enrollments. This project demonstrates the implementation of **CRUD (Create, Read, Update, Delete)** operations in Python using MySQL.\n",
    "\n",
    "## **2. Project Objectives**\n",
    "- Understand how to connect Python with MySQL.\n",
    "- Perform CRUD operations on multiple tables.\n",
    "- Organize the project into a modular, multi-file structure.\n",
    "- Implement a menu-driven approach for user interaction.\n",
    "\n",
    "## **3. Project Structure**\n",
    "```\n",
    "student_management/\n",
    "│── db_config.py       # Handles database connection\n",
    "│── student.py         # CRUD for students\n",
    "│── instructor.py      # CRUD for instructors\n",
    "│── course.py          # CRUD for courses\n",
    "│── enrollment.py      # CRUD for enrollments\n",
    "│── main.py            # Menu-driven program\n",
    "│── requirements.txt   # Required dependencies\n",
    "│── README.md          # Project overview and usage\n",
    "```\n",
    "\n",
    "## **4. Database Schema**\n",
    "The project uses a MySQL database named **school_db** with the following tables:\n",
    "\n",
    "- **students** (student_id, name, email)\n",
    "- **instructors** (instructor_id, name, department)\n",
    "- **courses** (course_id, course_name, instructor_id)\n",
    "- **enrollments** (enrollment_id, student_id, course_id, grade)"
   ]
  },
  {
   "cell_type": "markdown",
   "metadata": {},
   "source": []
  }
 ],
 "metadata": {
  "language_info": {
   "name": "python"
  }
 },
 "nbformat": 4,
 "nbformat_minor": 2
}
